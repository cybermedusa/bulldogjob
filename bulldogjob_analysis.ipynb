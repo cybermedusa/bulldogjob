{
 "cells": [
  {
   "cell_type": "code",
   "execution_count": 73,
   "id": "00917161-9d34-4b0d-8fb5-7c444ad82265",
   "metadata": {},
   "outputs": [],
   "source": [
    "import pandas as pd\n",
    "import numpy as np\n",
    "import matplotlib.pyplot as plt\n",
    "import glob\n",
    "import os\n",
    "import re"
   ]
  },
  {
   "cell_type": "markdown",
   "id": "e73db9de-6cc8-475b-abe5-8ed68549cf8d",
   "metadata": {
    "tags": []
   },
   "source": [
    "## Merging csv files"
   ]
  },
  {
   "cell_type": "code",
   "execution_count": 74,
   "id": "fb9cd439-2f71-4b13-97d7-5ed90da9777d",
   "metadata": {},
   "outputs": [
    {
     "data": {
      "text/plain": [
       "'/Users/zuzannakilar/PycharmProjects/pythonProject/jobs_data_exp_lvl/jobs_data*.csv'"
      ]
     },
     "execution_count": 74,
     "metadata": {},
     "output_type": "execute_result"
    }
   ],
   "source": [
    "joined_files = os.path.join('/Users/zuzannakilar/PycharmProjects/pythonProject/jobs_data_exp_lvl', 'jobs_data*.csv')\n",
    "joined_files"
   ]
  },
  {
   "cell_type": "code",
   "execution_count": 75,
   "id": "1e6ca70b-af5d-41a8-bc6d-77ca5e45c598",
   "metadata": {},
   "outputs": [
    {
     "data": {
      "text/plain": [
       "['/Users/zuzannakilar/PycharmProjects/pythonProject/jobs_data_exp_lvl/jobs_data_mid.csv',\n",
       " '/Users/zuzannakilar/PycharmProjects/pythonProject/jobs_data_exp_lvl/jobs_data_senior.csv',\n",
       " '/Users/zuzannakilar/PycharmProjects/pythonProject/jobs_data_exp_lvl/jobs_data_junior.csv']"
      ]
     },
     "execution_count": 75,
     "metadata": {},
     "output_type": "execute_result"
    }
   ],
   "source": [
    "joined_list = glob.glob(joined_files)\n",
    "joined_list"
   ]
  },
  {
   "cell_type": "code",
   "execution_count": 76,
   "id": "1e5cdb63-0f97-402e-8830-02b920b3250e",
   "metadata": {},
   "outputs": [],
   "source": [
    "df = pd.concat(map(pd.read_csv, joined_list))"
   ]
  },
  {
   "cell_type": "code",
   "execution_count": 77,
   "id": "dafcde0f-2605-414f-a040-b8530a2114e3",
   "metadata": {
    "tags": []
   },
   "outputs": [
    {
     "data": {
      "text/html": [
       "<div>\n",
       "<style scoped>\n",
       "    .dataframe tbody tr th:only-of-type {\n",
       "        vertical-align: middle;\n",
       "    }\n",
       "\n",
       "    .dataframe tbody tr th {\n",
       "        vertical-align: top;\n",
       "    }\n",
       "\n",
       "    .dataframe thead th {\n",
       "        text-align: right;\n",
       "    }\n",
       "</style>\n",
       "<table border=\"1\" class=\"dataframe\">\n",
       "  <thead>\n",
       "    <tr style=\"text-align: right;\">\n",
       "      <th></th>\n",
       "      <th>Title</th>\n",
       "      <th>Company</th>\n",
       "      <th>Location</th>\n",
       "      <th>Salary</th>\n",
       "      <th>Skills</th>\n",
       "      <th>Experience level</th>\n",
       "    </tr>\n",
       "  </thead>\n",
       "  <tbody>\n",
       "    <tr>\n",
       "      <th>0</th>\n",
       "      <td>Back-End Engineer (scala)</td>\n",
       "      <td>relayr sp. z o.o.</td>\n",
       "      <td>Remote</td>\n",
       "      <td>9 000 - 19 500 PLN</td>\n",
       "      <td>java   python   scala</td>\n",
       "      <td>Mid</td>\n",
       "    </tr>\n",
       "    <tr>\n",
       "      <th>1</th>\n",
       "      <td>Full Stack Engineer (NodeJS/React) (m/f/d)</td>\n",
       "      <td>relayr sp. z o.o.</td>\n",
       "      <td>Remote, Katowice</td>\n",
       "      <td>10 000 - 19 200 PLN</td>\n",
       "      <td>javascript   REST   Node.js</td>\n",
       "      <td>Mid</td>\n",
       "    </tr>\n",
       "    <tr>\n",
       "      <th>2</th>\n",
       "      <td>Citrix Engineer</td>\n",
       "      <td>ING Bank Śląski</td>\n",
       "      <td>Remote, Warszawa, Katowice</td>\n",
       "      <td>10 500 - 15 000 PLN</td>\n",
       "      <td>hardware konfiguracja utrzymanie wymiana</td>\n",
       "      <td>Mid</td>\n",
       "    </tr>\n",
       "    <tr>\n",
       "      <th>3</th>\n",
       "      <td>.NET Developer</td>\n",
       "      <td>7N</td>\n",
       "      <td>Warszawa</td>\n",
       "      <td>15 900 - 21 000 PLN</td>\n",
       "      <td>.NET   C#   .NET Core</td>\n",
       "      <td>Mid</td>\n",
       "    </tr>\n",
       "    <tr>\n",
       "      <th>4</th>\n",
       "      <td>Storage Specialist</td>\n",
       "      <td>Kyndryl</td>\n",
       "      <td>Remote, Wrocław</td>\n",
       "      <td>NaN</td>\n",
       "      <td></td>\n",
       "      <td>Mid</td>\n",
       "    </tr>\n",
       "  </tbody>\n",
       "</table>\n",
       "</div>"
      ],
      "text/plain": [
       "                                        Title            Company  \\\n",
       "0                   Back-End Engineer (scala)  relayr sp. z o.o.   \n",
       "1  Full Stack Engineer (NodeJS/React) (m/f/d)  relayr sp. z o.o.   \n",
       "2                             Citrix Engineer    ING Bank Śląski   \n",
       "3                              .NET Developer                 7N   \n",
       "4                          Storage Specialist            Kyndryl   \n",
       "\n",
       "                     Location               Salary  \\\n",
       "0                      Remote   9 000 - 19 500 PLN   \n",
       "1            Remote, Katowice  10 000 - 19 200 PLN   \n",
       "2  Remote, Warszawa, Katowice  10 500 - 15 000 PLN   \n",
       "3                    Warszawa  15 900 - 21 000 PLN   \n",
       "4             Remote, Wrocław                  NaN   \n",
       "\n",
       "                                        Skills Experience level  \n",
       "0                      java   python   scala                Mid  \n",
       "1                javascript   REST   Node.js                Mid  \n",
       "2    hardware konfiguracja utrzymanie wymiana               Mid  \n",
       "3                      .NET   C#   .NET Core                Mid  \n",
       "4                                                           Mid  "
      ]
     },
     "execution_count": 77,
     "metadata": {},
     "output_type": "execute_result"
    }
   ],
   "source": [
    "df.head()"
   ]
  },
  {
   "cell_type": "code",
   "execution_count": 78,
   "id": "5c98efe1-7951-42d9-aacf-285efdc98633",
   "metadata": {},
   "outputs": [
    {
     "data": {
      "text/plain": [
       "(1521, 6)"
      ]
     },
     "execution_count": 78,
     "metadata": {},
     "output_type": "execute_result"
    }
   ],
   "source": [
    "df.shape"
   ]
  },
  {
   "cell_type": "markdown",
   "id": "c15a804e-6b7a-4a7d-a3ca-3afbf9d86eed",
   "metadata": {
    "tags": []
   },
   "source": [
    "## Data cleaning"
   ]
  },
  {
   "cell_type": "markdown",
   "id": "949b46c5-bbee-4eca-8111-001e6d3a9107",
   "metadata": {
    "tags": []
   },
   "source": [
    "### NA values"
   ]
  },
  {
   "cell_type": "code",
   "execution_count": 7,
   "id": "9be073f4-e4e2-4d8b-873e-34504bdbbb40",
   "metadata": {},
   "outputs": [
    {
     "data": {
      "text/plain": [
       "Title                  0\n",
       "Company                0\n",
       "Location               0\n",
       "Salary              1008\n",
       "Skills                 0\n",
       "Experience level       0\n",
       "dtype: int64"
      ]
     },
     "execution_count": 7,
     "metadata": {},
     "output_type": "execute_result"
    }
   ],
   "source": [
    "df.isna().sum()"
   ]
  },
  {
   "cell_type": "markdown",
   "id": "8348d969-6d9c-449e-b13c-799d5808a3c5",
   "metadata": {
    "tags": []
   },
   "source": [
    "### Handling duplicates"
   ]
  },
  {
   "cell_type": "code",
   "execution_count": 9,
   "id": "5d6d0f96-6117-4498-ad24-3631285d72dc",
   "metadata": {
    "tags": []
   },
   "outputs": [
    {
     "data": {
      "text/html": [
       "<div>\n",
       "<style scoped>\n",
       "    .dataframe tbody tr th:only-of-type {\n",
       "        vertical-align: middle;\n",
       "    }\n",
       "\n",
       "    .dataframe tbody tr th {\n",
       "        vertical-align: top;\n",
       "    }\n",
       "\n",
       "    .dataframe thead th {\n",
       "        text-align: right;\n",
       "    }\n",
       "</style>\n",
       "<table border=\"1\" class=\"dataframe\">\n",
       "  <thead>\n",
       "    <tr style=\"text-align: right;\">\n",
       "      <th></th>\n",
       "      <th>Title</th>\n",
       "      <th>Company</th>\n",
       "      <th>Location</th>\n",
       "      <th>Salary</th>\n",
       "      <th>Skills</th>\n",
       "      <th>Experience level</th>\n",
       "    </tr>\n",
       "  </thead>\n",
       "  <tbody>\n",
       "    <tr>\n",
       "      <th>50</th>\n",
       "      <td>Back-End Engineer (scala)</td>\n",
       "      <td>relayr sp. z o.o.</td>\n",
       "      <td>Remote</td>\n",
       "      <td>9 000 - 19 500 PLN</td>\n",
       "      <td>java   python   scala</td>\n",
       "      <td>Mid</td>\n",
       "    </tr>\n",
       "    <tr>\n",
       "      <th>51</th>\n",
       "      <td>Full Stack Engineer (NodeJS/React) (m/f/d)</td>\n",
       "      <td>relayr sp. z o.o.</td>\n",
       "      <td>Remote, Katowice</td>\n",
       "      <td>10 000 - 19 200 PLN</td>\n",
       "      <td>javascript   REST   Node.js</td>\n",
       "      <td>Mid</td>\n",
       "    </tr>\n",
       "    <tr>\n",
       "      <th>52</th>\n",
       "      <td>Citrix Engineer</td>\n",
       "      <td>ING Bank Śląski</td>\n",
       "      <td>Remote, Warszawa, Katowice</td>\n",
       "      <td>10 500 - 15 000 PLN</td>\n",
       "      <td>hardware konfiguracja utrzymanie wymiana</td>\n",
       "      <td>Mid</td>\n",
       "    </tr>\n",
       "    <tr>\n",
       "      <th>53</th>\n",
       "      <td>.NET Developer</td>\n",
       "      <td>7N</td>\n",
       "      <td>Warszawa</td>\n",
       "      <td>15 900 - 21 000 PLN</td>\n",
       "      <td>.NET   C#   .NET Core</td>\n",
       "      <td>Mid</td>\n",
       "    </tr>\n",
       "    <tr>\n",
       "      <th>54</th>\n",
       "      <td>Storage Specialist</td>\n",
       "      <td>Kyndryl</td>\n",
       "      <td>Remote, Wrocław</td>\n",
       "      <td>NaN</td>\n",
       "      <td></td>\n",
       "      <td>Mid</td>\n",
       "    </tr>\n",
       "  </tbody>\n",
       "</table>\n",
       "</div>"
      ],
      "text/plain": [
       "                                         Title            Company  \\\n",
       "50                   Back-End Engineer (scala)  relayr sp. z o.o.   \n",
       "51  Full Stack Engineer (NodeJS/React) (m/f/d)  relayr sp. z o.o.   \n",
       "52                             Citrix Engineer    ING Bank Śląski   \n",
       "53                              .NET Developer                 7N   \n",
       "54                          Storage Specialist            Kyndryl   \n",
       "\n",
       "                      Location               Salary  \\\n",
       "50                      Remote   9 000 - 19 500 PLN   \n",
       "51            Remote, Katowice  10 000 - 19 200 PLN   \n",
       "52  Remote, Warszawa, Katowice  10 500 - 15 000 PLN   \n",
       "53                    Warszawa  15 900 - 21 000 PLN   \n",
       "54             Remote, Wrocław                  NaN   \n",
       "\n",
       "                                         Skills Experience level  \n",
       "50                      java   python   scala                Mid  \n",
       "51                javascript   REST   Node.js                Mid  \n",
       "52    hardware konfiguracja utrzymanie wymiana               Mid  \n",
       "53                      .NET   C#   .NET Core                Mid  \n",
       "54                                                           Mid  "
      ]
     },
     "execution_count": 9,
     "metadata": {},
     "output_type": "execute_result"
    }
   ],
   "source": [
    "duplicates_df = df[df.duplicated()]\n",
    "duplicates_df.head(5)"
   ]
  },
  {
   "cell_type": "code",
   "execution_count": 10,
   "id": "f43e7753",
   "metadata": {},
   "outputs": [
    {
     "data": {
      "text/plain": [
       "(186, 6)"
      ]
     },
     "execution_count": 10,
     "metadata": {},
     "output_type": "execute_result"
    }
   ],
   "source": [
    "duplicates_df.shape"
   ]
  },
  {
   "cell_type": "code",
   "execution_count": 79,
   "id": "3d0f93bf-e56f-4966-8519-3cb2d4587225",
   "metadata": {},
   "outputs": [],
   "source": [
    "df = df.drop_duplicates()"
   ]
  },
  {
   "cell_type": "code",
   "execution_count": 80,
   "id": "153361f1-80d9-475a-b1fc-390726d4ea28",
   "metadata": {},
   "outputs": [
    {
     "data": {
      "text/plain": [
       "(1335, 6)"
      ]
     },
     "execution_count": 80,
     "metadata": {},
     "output_type": "execute_result"
    }
   ],
   "source": [
    "df.shape"
   ]
  },
  {
   "cell_type": "markdown",
   "id": "b08f9692-5727-48be-9fb8-6ab860000c3e",
   "metadata": {
    "tags": []
   },
   "source": [
    "### Replacing insignificant values"
   ]
  },
  {
   "cell_type": "markdown",
   "id": "a7ea46a9",
   "metadata": {},
   "source": [
    "#### Salary column"
   ]
  },
  {
   "cell_type": "code",
   "execution_count": null,
   "id": "42e223d3",
   "metadata": {},
   "outputs": [],
   "source": [
    "df['Salary [PLN]'].unique()"
   ]
  },
  {
   "cell_type": "code",
   "execution_count": null,
   "id": "7a1891c6",
   "metadata": {},
   "outputs": [],
   "source": [
    "df['Salary'] = df['Salary'].replace('4 000 - 4 600 EUR', '18425.47 - 21189.29 PLN')"
   ]
  },
  {
   "cell_type": "code",
   "execution_count": null,
   "id": "68086e25",
   "metadata": {},
   "outputs": [],
   "source": [
    "# Get rid of PLN because all salary is in PLN so adding PLN into column name\n",
    "df['Salary'] = df['Salary'].str[:-4]"
   ]
  },
  {
   "cell_type": "code",
   "execution_count": null,
   "id": "c059bcac",
   "metadata": {},
   "outputs": [],
   "source": [
    "# Rename column name SALARY to SALARY [PLN]\n",
    "df.rename(columns = {'Salary':'Salary [PLN]'}, inplace = True)"
   ]
  },
  {
   "cell_type": "code",
   "execution_count": null,
   "id": "4d9e5b87",
   "metadata": {},
   "outputs": [],
   "source": [
    "df = df.astype({\"Salary [PLN]\": str}, errors='raise')"
   ]
  },
  {
   "cell_type": "code",
   "execution_count": null,
   "id": "0ab03cee",
   "metadata": {},
   "outputs": [],
   "source": [
    "df['Salary [PLN]'] = df['Salary [PLN]'].str.replace(\" \", \"\")"
   ]
  },
  {
   "cell_type": "code",
   "execution_count": 86,
   "id": "dd78e0e5-c11b-42eb-9279-9fab5d48a021",
   "metadata": {},
   "outputs": [],
   "source": [
    "df['Salary [PLN]'] = df['Salary [PLN]'].replace('Znamywid', np.nan) "
   ]
  },
  {
   "cell_type": "code",
   "execution_count": 87,
   "id": "884b6a0a-1215-4f27-8456-c6ed1e56b5df",
   "metadata": {},
   "outputs": [],
   "source": [
    "df['Salary [PLN]'] = df['Salary [PLN]'].replace('Od4000', '4000')"
   ]
  },
  {
   "cell_type": "code",
   "execution_count": 88,
   "id": "772f2370-cde5-4a99-9c7c-31170e2d4c5f",
   "metadata": {},
   "outputs": [],
   "source": [
    "df['Salary [PLN]'] = df['Salary [PLN]'].replace('Do20000', '20000')"
   ]
  },
  {
   "cell_type": "code",
   "execution_count": 89,
   "id": "36ff2617-4277-4718-979c-f2baf6a01a44",
   "metadata": {},
   "outputs": [],
   "source": [
    "df['Salary [PLN]'] = df['Salary [PLN]'].replace('Do22000', '22000')"
   ]
  },
  {
   "cell_type": "code",
   "execution_count": 90,
   "id": "73e9e551-91c8-4c51-a3ff-a0546aead315",
   "metadata": {},
   "outputs": [],
   "source": [
    "df['Salary [PLN]'] = df['Salary [PLN]'].replace('Do36000', '36000')"
   ]
  },
  {
   "cell_type": "code",
   "execution_count": 91,
   "id": "7e1ae7f8-d2d5-45c0-b32e-5ac71abef2a6",
   "metadata": {},
   "outputs": [],
   "source": [
    "df['Salary [PLN]'] = df['Salary [PLN]'].replace('Do20800', '20800')"
   ]
  },
  {
   "cell_type": "code",
   "execution_count": 92,
   "id": "9426702a-89bc-4fa0-8d2e-a8b2222d9bca",
   "metadata": {},
   "outputs": [],
   "source": [
    "df['Salary [PLN]'] = df['Salary [PLN]'].replace('Do17000', '17000')"
   ]
  },
  {
   "cell_type": "code",
   "execution_count": 93,
   "id": "f55d94d1-307b-4fd3-bcaf-1b747d03d5c1",
   "metadata": {},
   "outputs": [],
   "source": [
    "df['Salary [PLN]'] = df['Salary [PLN]'].replace('Do10000', '10000')"
   ]
  },
  {
   "cell_type": "code",
   "execution_count": 94,
   "id": "7e74452b-ae99-44d3-84c2-181b9e0eb302",
   "metadata": {},
   "outputs": [],
   "source": [
    "df['Salary [PLN]'] = df['Salary [PLN]'].replace('Do23500', '23500')"
   ]
  },
  {
   "cell_type": "code",
   "execution_count": 95,
   "id": "a952b5c5-578e-4f3b-94ad-d889bfdcdcd9",
   "metadata": {},
   "outputs": [],
   "source": [
    "df['Salary [PLN]'] = df['Salary [PLN]'].replace('Do24500', '24500')"
   ]
  },
  {
   "cell_type": "code",
   "execution_count": 96,
   "id": "2300ba0b-377e-42f4-a2b1-61ddfe61cc7a",
   "metadata": {},
   "outputs": [],
   "source": [
    "df['Salary [PLN]'] = df['Salary [PLN]'].replace('Do24600', '24600')"
   ]
  },
  {
   "cell_type": "code",
   "execution_count": 97,
   "id": "41acd211-8d94-4b3b-83f4-81eaac108b0d",
   "metadata": {},
   "outputs": [],
   "source": [
    "df['Salary [PLN]'] = df['Salary [PLN]'].replace('nan', np.nan)"
   ]
  },
  {
   "cell_type": "code",
   "execution_count": null,
   "id": "26d77bdd",
   "metadata": {},
   "outputs": [],
   "source": [
    "df[['Low salary range', 'High salary range']] = df['Salary [PLN]'].str.split('-', expand=True)"
   ]
  },
  {
   "cell_type": "code",
   "execution_count": null,
   "id": "0de139fa",
   "metadata": {},
   "outputs": [],
   "source": [
    "df['High salary range'] = df['High salary range'].astype(float)\n",
    "df['Low salary range'] = df['Low salary range'].astype(float)"
   ]
  },
  {
   "cell_type": "code",
   "execution_count": null,
   "id": "424f8548",
   "metadata": {},
   "outputs": [],
   "source": [
    "df['Average salary'] = df[['High salary range', 'Low salary range']].mean(axis=1)"
   ]
  },
  {
   "cell_type": "code",
   "execution_count": null,
   "id": "1243f7a2",
   "metadata": {},
   "outputs": [],
   "source": [
    "df = df.drop(['Salary [PLN]', 'Low salary range', 'High salary range'], axis=1)"
   ]
  },
  {
   "cell_type": "code",
   "execution_count": null,
   "id": "da5908a8",
   "metadata": {},
   "outputs": [],
   "source": [
    "salary_provided = df[df['Average salary'].notnull()]"
   ]
  },
  {
   "cell_type": "code",
   "execution_count": null,
   "id": "d1d3aa64",
   "metadata": {},
   "outputs": [],
   "source": [
    "salary_provided.shape"
   ]
  },
  {
   "cell_type": "markdown",
   "id": "747fa5eb",
   "metadata": {
    "tags": []
   },
   "source": [
    "#### Skills column"
   ]
  },
  {
   "cell_type": "code",
   "execution_count": 84,
   "id": "49d5ed08-b6a1-450d-afcf-52a3a76ae6f1",
   "metadata": {},
   "outputs": [],
   "source": [
    "df['Skills'].unique()"
   ]
  },
  {
   "cell_type": "code",
   "execution_count": 85,
   "id": "0202a03d-2af3-4121-8e55-ee14ad85b9a4",
   "metadata": {},
   "outputs": [],
   "source": [
    "df['Skills'] = df['Skills'].str.strip()"
   ]
  },
  {
   "cell_type": "code",
   "execution_count": null,
   "id": "1f6d8f04-1ba6-4569-afba-c16942283312",
   "metadata": {
    "tags": []
   },
   "outputs": [],
   "source": [
    "df['Skills'] = df['Skills'].replace(['Możliwość zmiany projektu',\n",
    "                                     'Zrób następny krok w swoim rozwoju',\n",
    "                                     'Rozmowa tech. na pierwszym spotkaniu',\n",
    "                                     'Śr. czas pracy u nas to 4 lata!',\n",
    "                                     'System Dozoru Elektronicznego', \n",
    "                                     'autorski produkt',\n",
    "                                     '100% remote work',\n",
    "                                     'One Day Recruitment',\n",
    "                                     'Zróżnicowane projekty 100% zdalnie',\n",
    "                                     'Project for Scandinavian automotive.',\n",
    "                                     \"We're looking for Cloud Guru.\",\n",
    "                                     'nowoczesny stack i projekt z misją',\n",
    "                                     'przełomowy produkt w branży automotive',\n",
    "                                     'mocny zespół, projekty z US',\n",
    "                                     'Possibility working abroad (60days/year)',\n",
    "                                     'projekt tworzony wewnętrznie od początku',\n",
    "                                     'Join us to fulfill your Potential!',\n",
    "                                     'Możliwość wyboru projektu', \n",
    "                                     'You build it you run it',\n",
    "                                     'Tworzymy transport przyszłości.',\n",
    "                                     'autorski produkt',\n",
    "                                     'Mały zespół, fajna atmosfera.'\n",
    "                                     'for Smart Buildings',\n",
    "                                     'Java   Spring   REST', 'Media production platform',\n",
    "                                     'cybersecurity products', \n",
    "                                     'Augmented Reality project', \n",
    "                                     'construction industry',\n",
    "                                     '#migrationanalyst', \n",
    "                                     'Praca zdalna', \n",
    "                                     'Systemy klasy enterprise', \n",
    "                                     'Test automation, continuous development',\n",
    "                                     'Entertainment | Online media',\n",
    "                                     'Let’s get to work on your next project!',\n",
    "                                     'Analityk', 'mikroserwisy', \n",
    "                                     'VR startup z USA | polskie godziny pracy', \n",
    "                                     '80% rozwijanie; 20% utrzymanie',\n",
    "                                     'System pomiaru i analizy oglądalności TV',\n",
    "                                     '#businessanalyst',\n",
    "                                     'Budowa nowego systemu Assistance', \n",
    "                                     'hardware konfiguracja utrzymanie wymiana',\n",
    "                                     'great opportunity to grow', ''], np.nan)"
   ]
  },
  {
   "cell_type": "markdown",
   "id": "4d5920db-f841-4770-9ab8-4eefd081c139",
   "metadata": {
    "tags": []
   },
   "source": [
    "## Data exploration & analysis"
   ]
  },
  {
   "cell_type": "markdown",
   "id": "64425203-5565-4cf2-b473-8237b8ed7f4e",
   "metadata": {
    "tags": []
   },
   "source": [
    "### Which company has the most ads?"
   ]
  },
  {
   "cell_type": "code",
   "execution_count": 110,
   "id": "5fd5a487-48c0-44d2-8d94-a3590217ff23",
   "metadata": {},
   "outputs": [
    {
     "data": {
      "text/plain": [
       "Company\n",
       "Luxoft Poland                                           408\n",
       "Commerzbank - Centrum Technologii Cyfrowych w Polsce     81\n",
       "Power Media                                              61\n",
       "Sii Polska                                               54\n",
       "Transition Technologies PSC S.A.                         41\n",
       "Bank Millennium                                          41\n",
       "ONWELO SA                                                37\n",
       "PKO BP Finat                                             32\n",
       "Sapiens Software Solutions Poland Sp. z o.o.             30\n",
       "Hitachi Energy                                           27\n",
       "Name: Company, dtype: int64"
      ]
     },
     "execution_count": 110,
     "metadata": {},
     "output_type": "execute_result"
    }
   ],
   "source": [
    "the_most_ads = df.groupby('Company')['Company'].count().sort_values(ascending=False).head(10)\n",
    "the_most_ads"
   ]
  },
  {
   "cell_type": "markdown",
   "id": "6ed4c615-3f15-4fb6-9b97-9ba3e4aaa7b9",
   "metadata": {},
   "source": [
    "### Which company has the most job offers with salary?"
   ]
  },
  {
   "cell_type": "code",
   "execution_count": 121,
   "id": "0b4da73c-68f9-4e77-9de6-ef84de714307",
   "metadata": {},
   "outputs": [
    {
     "data": {
      "text/plain": [
       "Company\n",
       "ONWELO SA                           36\n",
       "Hitachi Energy                      27\n",
       "Sii Polska                          20\n",
       "7N                                  17\n",
       "Be | Shaping the Future Poland      13\n",
       "                                    ..\n",
       "Rumble Fish Software Development     1\n",
       "STRIX                                1\n",
       "Felder Group Polska Sp. z o.o.       1\n",
       "EuroLinux Sp. z o. o.                1\n",
       "23Knots                              1\n",
       "Name: Company, Length: 85, dtype: int64"
      ]
     },
     "execution_count": 121,
     "metadata": {},
     "output_type": "execute_result"
    }
   ],
   "source": [
    "salary_provided.groupby('Company')['Company'].count().sort_values(ascending=False)"
   ]
  },
  {
   "cell_type": "markdown",
   "id": "2c9204c2-9320-47ac-aa87-4c3fdc884d0a",
   "metadata": {
    "tags": []
   },
   "source": [
    "### Experience level "
   ]
  },
  {
   "cell_type": "code",
   "execution_count": 123,
   "id": "f7216e9a-1695-4b8f-ad26-cf0e334647a1",
   "metadata": {},
   "outputs": [
    {
     "data": {
      "text/plain": [
       "23"
      ]
     },
     "execution_count": 123,
     "metadata": {},
     "output_type": "execute_result"
    }
   ],
   "source": [
    "junior = salary_provided[salary_provided['Experience level'] == 'Junior'].count()\n",
    "junior['Experience level']"
   ]
  },
  {
   "cell_type": "code",
   "execution_count": 124,
   "id": "dd4e8b90-a86c-4722-b3ef-9b2d7c2ebdf7",
   "metadata": {},
   "outputs": [
    {
     "data": {
      "text/plain": [
       "194"
      ]
     },
     "execution_count": 124,
     "metadata": {},
     "output_type": "execute_result"
    }
   ],
   "source": [
    "mid = salary_provided[salary_provided['Experience level'] == 'Mid'].count()\n",
    "mid['Experience level']"
   ]
  },
  {
   "cell_type": "code",
   "execution_count": 125,
   "id": "10e6f119-943f-4c37-99fc-a0fb0bc9658f",
   "metadata": {},
   "outputs": [
    {
     "data": {
      "text/plain": [
       "107"
      ]
     },
     "execution_count": 125,
     "metadata": {},
     "output_type": "execute_result"
    }
   ],
   "source": [
    "senior = salary_provided[salary_provided['Experience level'] == 'Senior'].count()\n",
    "senior['Experience level']"
   ]
  },
  {
   "cell_type": "markdown",
   "id": "251b8f1f-e6a2-443e-8fea-302571eaf053",
   "metadata": {
    "tags": []
   },
   "source": [
    "### What is an average salary per experience level?"
   ]
  },
  {
   "cell_type": "code",
   "execution_count": 113,
   "id": "c6ae469f-9912-4604-84b3-dcb2620b9478",
   "metadata": {},
   "outputs": [
    {
     "data": {
      "text/plain": [
       "Experience level\n",
       "Junior     8021.74\n",
       "Mid       30980.29\n",
       "Senior    20126.17\n",
       "Name: Average salary, dtype: float64"
      ]
     },
     "execution_count": 113,
     "metadata": {},
     "output_type": "execute_result"
    }
   ],
   "source": [
    "avg_sal_per_exp_lvl = salary_provided.groupby('Experience level')['Average salary'].mean()\n",
    "round(avg_sal_per_exp_lvl, 2)"
   ]
  },
  {
   "cell_type": "markdown",
   "id": "77d139fb-154a-40d4-b8e6-6562b98370e3",
   "metadata": {
    "tags": []
   },
   "source": [
    "### Outlier handling"
   ]
  },
  {
   "cell_type": "code",
   "execution_count": 114,
   "id": "243eee97-82d4-4390-ab83-b05aa4fc59bc",
   "metadata": {},
   "outputs": [
    {
     "data": {
      "text/plain": [
       "Text(0.5, 0, '')"
      ]
     },
     "execution_count": 114,
     "metadata": {},
     "output_type": "execute_result"
    },
    {
     "data": {
      "image/png": "[encoded data removed]",
      "text/plain": [
       "<Figure size 432x288 with 1 Axes>"
      ]
     },
     "metadata": {
      "needs_background": "dark"
     },
     "output_type": "display_data"
    }
   ],
   "source": [
    "boxprops = dict(linestyle='-',\n",
    "                linewidth=3,\n",
    "                color='#9349E1')\n",
    "\n",
    "whiskerprops = dict(color='black',\n",
    "                    linewidth=1.5,\n",
    "                    linestyle=':')\n",
    "\n",
    "medianprops = dict(color='#AC92DD', linewidth=3)\n",
    "\n",
    "salary_provided.boxplot(column='Average salary', by='Experience level', grid=False, notch=True,\n",
    "                       boxprops=boxprops, whiskerprops=whiskerprops, medianprops=medianprops)\n",
    "plt.title('')\n",
    "plt.suptitle(t='Boxplot grouped by experience level', color='white')\n",
    "plt.xticks(color='white')\n",
    "plt.yticks(color='white')\n",
    "plt.xlabel('')\n",
    "# 1e6 = n * 10 ** 6"
   ]
  },
  {
   "cell_type": "code",
   "execution_count": 115,
   "id": "3b89a384-3efe-4dd9-93ba-0c2fb78c2a3e",
   "metadata": {},
   "outputs": [
    {
     "data": {
      "text/plain": [
       "(array([125]),)"
      ]
     },
     "execution_count": 115,
     "metadata": {},
     "output_type": "execute_result"
    }
   ],
   "source": [
    "np.where(salary_provided['Average salary']>3_000_000)"
   ]
  },
  {
   "cell_type": "code",
   "execution_count": 116,
   "id": "0145f6d7-a66b-4238-b455-1e7a3f80a103",
   "metadata": {},
   "outputs": [
    {
     "data": {
      "text/plain": [
       "Title                                 Devops Engineer\n",
       "Company                                            7N\n",
       "Location                                     Warszawa\n",
       "Skills                Kubernetes   Docker   Ansible  \n",
       "Experience level                                  Mid\n",
       "Average salary                              3008000.0\n",
       "Name: 658, dtype: object"
      ]
     },
     "execution_count": 116,
     "metadata": {},
     "output_type": "execute_result"
    }
   ],
   "source": [
    "salary_provided.iloc[125]"
   ]
  },
  {
   "cell_type": "code",
   "execution_count": 117,
   "id": "e6a2965a-8f87-479f-980b-bd7fb310437e",
   "metadata": {},
   "outputs": [],
   "source": [
    "# Get rid of ambiguous value in mid\n",
    "salary_provided = salary_provided.drop(labels=658, axis=0)"
   ]
  },
  {
   "cell_type": "code",
   "execution_count": 118,
   "id": "fc9a663f-5cf9-4f9a-b251-d3ef0e667699",
   "metadata": {},
   "outputs": [
    {
     "data": {
      "text/plain": [
       "Text(0.5, 0, '')"
      ]
     },
     "execution_count": 118,
     "metadata": {},
     "output_type": "execute_result"
    },
    {
     "data": {
      "image/png": "[encoded data removed]",
      "text/plain": [
       "<Figure size 432x288 with 1 Axes>"
      ]
     },
     "metadata": {
      "needs_background": "dark"
     },
     "output_type": "display_data"
    }
   ],
   "source": [
    "boxprops = dict(linestyle='-',\n",
    "                linewidth=3,\n",
    "                color='#9349E1')\n",
    "\n",
    "whiskerprops = dict(color='black',\n",
    "                    linewidth=1.5,\n",
    "                    linestyle=':')\n",
    "\n",
    "medianprops = dict(color='#AC92DD', linewidth=3)\n",
    "\n",
    "salary_provided.boxplot(column='Average salary', by='Experience level', grid=False, notch=True,\n",
    "                       boxprops=boxprops, whiskerprops=whiskerprops, medianprops=medianprops)\n",
    "plt.title('')\n",
    "plt.suptitle(t='Boxplot grouped by experience level', color='white')\n",
    "plt.xticks(color='white')\n",
    "plt.yticks(color='white')\n",
    "plt.xlabel('')"
   ]
  },
  {
   "cell_type": "code",
   "execution_count": 122,
   "id": "18ac6f00-a52b-4f9b-8924-51edd2fc4e73",
   "metadata": {},
   "outputs": [
    {
     "data": {
      "text/plain": [
       "Experience level\n",
       "Junior     8021.74\n",
       "Mid       15634.83\n",
       "Senior    20126.17\n",
       "Name: Average salary, dtype: float64"
      ]
     },
     "execution_count": 122,
     "metadata": {},
     "output_type": "execute_result"
    }
   ],
   "source": [
    "avg_sal_per_exp_lvl = salary_provided.groupby('Experience level')['Average salary'].mean()\n",
    "round(avg_sal_per_exp_lvl, 2)"
   ]
  }
 ],
 "metadata": {
  "kernelspec": {
   "display_name": "Python 3",
   "language": "python",
   "name": "python3"
  },
  "language_info": {
   "codemirror_mode": {
    "name": "ipython",
    "version": 3
   },
   "file_extension": ".py",
   "mimetype": "text/x-python",
   "name": "python",
   "nbconvert_exporter": "python",
   "pygments_lexer": "ipython3",
   "version": "3.8.5"
  }
 },
 "nbformat": 4,
 "nbformat_minor": 5
}
